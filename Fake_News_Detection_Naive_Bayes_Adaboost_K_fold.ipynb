{
  "nbformat": 4,
  "nbformat_minor": 0,
  "metadata": {
    "colab": {
      "name": "Fake-News-Detection-Naive-Bayes-Adaboost-K-fold.ipynb",
      "version": "0.3.2",
      "views": {},
      "default_view": {},
      "provenance": [
        {
          "file_id": "1EgPBvac00nVMdrp7qv8g6dSjegAgMm5i",
          "timestamp": 1528647987923
        },
        {
          "file_id": "https://github.com/lucasparreiras/fake-news-detection/blob/master/Fake-News_Detection.ipynb",
          "timestamp": 1528212860655
        }
      ],
      "collapsed_sections": []
    },
    "kernelspec": {
      "display_name": "Python 3",
      "language": "python",
      "name": "python3"
    }
  },
  "cells": [
    {
      "metadata": {
        "id": "DRUSuh1ElW-1",
        "colab_type": "code",
        "colab": {
          "autoexec": {
            "startup": false,
            "wait_interval": 0
          },
          "base_uri": "https://localhost:8080/",
          "height": 51
        },
        "outputId": "63aedb4a-e0f8-4f1d-d0e7-c671df2ab5fb",
        "executionInfo": {
          "status": "ok",
          "timestamp": 1529452214029,
          "user_tz": 180,
          "elapsed": 3295,
          "user": {
            "displayName": "Lucas Parreiras",
            "photoUrl": "//lh3.googleusercontent.com/-TXOCYUmGm00/AAAAAAAAAAI/AAAAAAAAG3c/JEpN5dCuDxY/s50-c-k-no/photo.jpg",
            "userId": "114481027314794826154"
          }
        }
      },
      "cell_type": "code",
      "source": [
        "import numpy as np\n",
        "import pandas as pd\n",
        "from sklearn.feature_extraction.text import CountVectorizer\n",
        "from sklearn.naive_bayes import MultinomialNB\n",
        "from sklearn.feature_extraction.text import TfidfTransformer\n",
        "from sklearn.feature_extraction.text import TfidfVectorizer\n",
        "from sklearn.naive_bayes import MultinomialNB\n",
        "from sklearn.manifold import TSNE\n",
        "from sklearn.model_selection import train_test_split\n",
        "from sklearn.model_selection import StratifiedKFold\n",
        "from sklearn.ensemble import AdaBoostClassifier\n",
        "from sklearn.tree import DecisionTreeClassifier\n",
        "\n",
        "import plotly.offline as py\n",
        "import plotly.graph_objs as go\n",
        "py.init_notebook_mode(connected=True)\n",
        "\n",
        "import nltk\n",
        "nltk.download('stopwords')\n",
        "from nltk.corpus import stopwords\n",
        "from nltk.stem.snowball import SnowballStemmer\n",
        "\n",
        "import string\n",
        "import re"
      ],
      "execution_count": 1,
      "outputs": [
        {
          "output_type": "display_data",
          "data": {
            "text/html": [
              "<script>requirejs.config({paths: { 'plotly': ['https://cdn.plot.ly/plotly-latest.min']},});if(!window.Plotly) {{require(['plotly'],function(plotly) {window.Plotly=plotly;});}}</script>"
            ],
            "text/plain": [
              "<IPython.core.display.HTML object>"
            ]
          },
          "metadata": {
            "tags": []
          }
        },
        {
          "output_type": "stream",
          "text": [
            "[nltk_data] Downloading package stopwords to /content/nltk_data...\n",
            "[nltk_data]   Package stopwords is already up-to-date!\n"
          ],
          "name": "stdout"
        }
      ]
    },
    {
      "metadata": {
        "id": "XfLVwNWiBjeP",
        "colab_type": "code",
        "colab": {
          "autoexec": {
            "startup": false,
            "wait_interval": 0
          },
          "base_uri": "https://localhost:8080/",
          "height": 17
        },
        "outputId": "5b80617b-6959-427d-c11d-be59c5b1886a",
        "executionInfo": {
          "status": "ok",
          "timestamp": 1529452218661,
          "user_tz": 180,
          "elapsed": 2776,
          "user": {
            "displayName": "Lucas Parreiras",
            "photoUrl": "//lh3.googleusercontent.com/-TXOCYUmGm00/AAAAAAAAAAI/AAAAAAAAG3c/JEpN5dCuDxY/s50-c-k-no/photo.jpg",
            "userId": "114481027314794826154"
          }
        }
      },
      "cell_type": "code",
      "source": [
        "!pip install -U -q PyDrive"
      ],
      "execution_count": 2,
      "outputs": []
    },
    {
      "metadata": {
        "id": "VlSuGGd6BrK_",
        "colab_type": "code",
        "colab": {
          "autoexec": {
            "startup": false,
            "wait_interval": 0
          },
          "base_uri": "https://localhost:8080/",
          "height": 37
        },
        "outputId": "8975ca59-bb63-4987-a8c5-7ddbfac04d67",
        "executionInfo": {
          "status": "ok",
          "timestamp": 1529452219370,
          "user_tz": 180,
          "elapsed": 582,
          "user": {
            "displayName": "Lucas Parreiras",
            "photoUrl": "//lh3.googleusercontent.com/-TXOCYUmGm00/AAAAAAAAAAI/AAAAAAAAG3c/JEpN5dCuDxY/s50-c-k-no/photo.jpg",
            "userId": "114481027314794826154"
          }
        }
      },
      "cell_type": "code",
      "source": [
        "from pydrive.auth import GoogleAuth\n",
        "from pydrive.drive import GoogleDrive\n",
        "from google.colab import auth\n",
        "from oauth2client.client import GoogleCredentials"
      ],
      "execution_count": 3,
      "outputs": []
    },
    {
      "metadata": {
        "id": "qxz8aa_RBywn",
        "colab_type": "code",
        "colab": {
          "autoexec": {
            "startup": false,
            "wait_interval": 0
          },
          "base_uri": "https://localhost:8080/",
          "height": 37
        },
        "outputId": "ddcf176f-d701-4dfe-93cc-25f2ac42250b",
        "executionInfo": {
          "status": "ok",
          "timestamp": 1529452223177,
          "user_tz": 180,
          "elapsed": 3732,
          "user": {
            "displayName": "Lucas Parreiras",
            "photoUrl": "//lh3.googleusercontent.com/-TXOCYUmGm00/AAAAAAAAAAI/AAAAAAAAG3c/JEpN5dCuDxY/s50-c-k-no/photo.jpg",
            "userId": "114481027314794826154"
          }
        }
      },
      "cell_type": "code",
      "source": [
        "auth.authenticate_user()\n",
        "gauth = GoogleAuth()\n",
        "gauth.credentials = GoogleCredentials.get_application_default()\n",
        "drive = GoogleDrive(gauth)"
      ],
      "execution_count": 4,
      "outputs": []
    },
    {
      "metadata": {
        "id": "fHPqXdEHCJBP",
        "colab_type": "code",
        "colab": {
          "autoexec": {
            "startup": false,
            "wait_interval": 0
          },
          "base_uri": "https://localhost:8080/",
          "height": 34
        },
        "outputId": "96f72bf2-651c-44cb-d310-df4d532af22b",
        "executionInfo": {
          "status": "ok",
          "timestamp": 1529452225259,
          "user_tz": 180,
          "elapsed": 1920,
          "user": {
            "displayName": "Lucas Parreiras",
            "photoUrl": "//lh3.googleusercontent.com/-TXOCYUmGm00/AAAAAAAAAAI/AAAAAAAAG3c/JEpN5dCuDxY/s50-c-k-no/photo.jpg",
            "userId": "114481027314794826154"
          }
        }
      },
      "cell_type": "code",
      "source": [
        "file_list = drive.ListFile({'q': \"'1DKJEpwYEPfGzEOzZZ1TwVM_pZIc4RnbF' in parents and trashed=false\"}).GetList()\n",
        "for file1 in file_list:\n",
        "  print('title: %s, id: %s' % (file1['title'], file1['id']))"
      ],
      "execution_count": 5,
      "outputs": [
        {
          "output_type": "stream",
          "text": [
            "title: train.csv, id: 1piDuPiqjKJzF2W1g134KlnKFCaGJNId6\n"
          ],
          "name": "stdout"
        }
      ]
    },
    {
      "metadata": {
        "id": "NhuM__rAmjTb",
        "colab_type": "code",
        "colab": {
          "autoexec": {
            "startup": false,
            "wait_interval": 0
          },
          "base_uri": "https://localhost:8080/",
          "height": 37
        },
        "outputId": "c72135b6-046a-4e22-e7bf-3b3dd1c2dfc8",
        "executionInfo": {
          "status": "ok",
          "timestamp": 1529452228000,
          "user_tz": 180,
          "elapsed": 2707,
          "user": {
            "displayName": "Lucas Parreiras",
            "photoUrl": "//lh3.googleusercontent.com/-TXOCYUmGm00/AAAAAAAAAAI/AAAAAAAAG3c/JEpN5dCuDxY/s50-c-k-no/photo.jpg",
            "userId": "114481027314794826154"
          }
        }
      },
      "cell_type": "code",
      "source": [
        "train_downloaded = drive.CreateFile({'id': '1piDuPiqjKJzF2W1g134KlnKFCaGJNId6'})\n",
        "train_downloaded.GetContentFile('train.csv')"
      ],
      "execution_count": 6,
      "outputs": []
    },
    {
      "metadata": {
        "id": "pZqe6tzblW-5",
        "colab_type": "code",
        "colab": {
          "autoexec": {
            "startup": false,
            "wait_interval": 0
          },
          "base_uri": "https://localhost:8080/",
          "height": 37
        },
        "outputId": "01df0f83-4695-4828-933b-25e0d8dc217a",
        "executionInfo": {
          "status": "ok",
          "timestamp": 1529452229696,
          "user_tz": 180,
          "elapsed": 1554,
          "user": {
            "displayName": "Lucas Parreiras",
            "photoUrl": "//lh3.googleusercontent.com/-TXOCYUmGm00/AAAAAAAAAAI/AAAAAAAAG3c/JEpN5dCuDxY/s50-c-k-no/photo.jpg",
            "userId": "114481027314794826154"
          }
        }
      },
      "cell_type": "code",
      "source": [
        "import pandas as pd\n",
        "\n",
        "data = pd.read_csv('train.csv')"
      ],
      "execution_count": 7,
      "outputs": []
    },
    {
      "metadata": {
        "id": "HMWQd34zlW-8",
        "colab_type": "code",
        "colab": {
          "autoexec": {
            "startup": false,
            "wait_interval": 0
          },
          "base_uri": "https://localhost:8080/",
          "height": 632
        },
        "outputId": "2ac26eb7-6bff-429d-eb24-272191322a14",
        "executionInfo": {
          "status": "ok",
          "timestamp": 1529452248805,
          "user_tz": 180,
          "elapsed": 19040,
          "user": {
            "displayName": "Lucas Parreiras",
            "photoUrl": "//lh3.googleusercontent.com/-TXOCYUmGm00/AAAAAAAAAAI/AAAAAAAAG3c/JEpN5dCuDxY/s50-c-k-no/photo.jpg",
            "userId": "114481027314794826154"
          }
        }
      },
      "cell_type": "code",
      "source": [
        "data.head(5)"
      ],
      "execution_count": 8,
      "outputs": [
        {
          "output_type": "execute_result",
          "data": {
            "text/html": [
              "<div>\n",
              "<style scoped>\n",
              "    .dataframe tbody tr th:only-of-type {\n",
              "        vertical-align: middle;\n",
              "    }\n",
              "\n",
              "    .dataframe tbody tr th {\n",
              "        vertical-align: top;\n",
              "    }\n",
              "\n",
              "    .dataframe thead th {\n",
              "        text-align: right;\n",
              "    }\n",
              "</style>\n",
              "<table border=\"1\" class=\"dataframe\">\n",
              "  <thead>\n",
              "    <tr style=\"text-align: right;\">\n",
              "      <th></th>\n",
              "      <th>id</th>\n",
              "      <th>title</th>\n",
              "      <th>author</th>\n",
              "      <th>text</th>\n",
              "      <th>label</th>\n",
              "    </tr>\n",
              "  </thead>\n",
              "  <tbody>\n",
              "    <tr>\n",
              "      <th>0</th>\n",
              "      <td>0</td>\n",
              "      <td>House Dem Aide: We Didn’t Even See Comey’s Let...</td>\n",
              "      <td>Darrell Lucus</td>\n",
              "      <td>House Dem Aide: We Didn’t Even See Comey’s Let...</td>\n",
              "      <td>1</td>\n",
              "    </tr>\n",
              "    <tr>\n",
              "      <th>1</th>\n",
              "      <td>1</td>\n",
              "      <td>FLYNN: Hillary Clinton, Big Woman on Campus - ...</td>\n",
              "      <td>Daniel J. Flynn</td>\n",
              "      <td>Ever get the feeling your life circles the rou...</td>\n",
              "      <td>0</td>\n",
              "    </tr>\n",
              "    <tr>\n",
              "      <th>2</th>\n",
              "      <td>2</td>\n",
              "      <td>Why the Truth Might Get You Fired</td>\n",
              "      <td>Consortiumnews.com</td>\n",
              "      <td>Why the Truth Might Get You Fired October 29, ...</td>\n",
              "      <td>1</td>\n",
              "    </tr>\n",
              "    <tr>\n",
              "      <th>3</th>\n",
              "      <td>3</td>\n",
              "      <td>15 Civilians Killed In Single US Airstrike Hav...</td>\n",
              "      <td>Jessica Purkiss</td>\n",
              "      <td>Videos 15 Civilians Killed In Single US Airstr...</td>\n",
              "      <td>1</td>\n",
              "    </tr>\n",
              "    <tr>\n",
              "      <th>4</th>\n",
              "      <td>4</td>\n",
              "      <td>Iranian woman jailed for fictional unpublished...</td>\n",
              "      <td>Howard Portnoy</td>\n",
              "      <td>Print \\nAn Iranian woman has been sentenced to...</td>\n",
              "      <td>1</td>\n",
              "    </tr>\n",
              "  </tbody>\n",
              "</table>\n",
              "</div>"
            ],
            "text/plain": [
              "   id                                              title              author  \\\n",
              "0   0  House Dem Aide: We Didn’t Even See Comey’s Let...       Darrell Lucus   \n",
              "1   1  FLYNN: Hillary Clinton, Big Woman on Campus - ...     Daniel J. Flynn   \n",
              "2   2                  Why the Truth Might Get You Fired  Consortiumnews.com   \n",
              "3   3  15 Civilians Killed In Single US Airstrike Hav...     Jessica Purkiss   \n",
              "4   4  Iranian woman jailed for fictional unpublished...      Howard Portnoy   \n",
              "\n",
              "                                                text  label  \n",
              "0  House Dem Aide: We Didn’t Even See Comey’s Let...      1  \n",
              "1  Ever get the feeling your life circles the rou...      0  \n",
              "2  Why the Truth Might Get You Fired October 29, ...      1  \n",
              "3  Videos 15 Civilians Killed In Single US Airstr...      1  \n",
              "4  Print \\nAn Iranian woman has been sentenced to...      1  "
            ]
          },
          "metadata": {
            "tags": []
          },
          "execution_count": 8
        }
      ]
    },
    {
      "metadata": {
        "id": "milMfZT2lW_K",
        "colab_type": "code",
        "colab": {
          "autoexec": {
            "startup": false,
            "wait_interval": 0
          },
          "base_uri": "https://localhost:8080/",
          "height": 187
        },
        "outputId": "a3d1a41f-884b-449a-fc51-c5523eaab6ce",
        "executionInfo": {
          "status": "ok",
          "timestamp": 1529452249464,
          "user_tz": 180,
          "elapsed": 605,
          "user": {
            "displayName": "Lucas Parreiras",
            "photoUrl": "//lh3.googleusercontent.com/-TXOCYUmGm00/AAAAAAAAAAI/AAAAAAAAG3c/JEpN5dCuDxY/s50-c-k-no/photo.jpg",
            "userId": "114481027314794826154"
          }
        }
      },
      "cell_type": "code",
      "source": [
        "data.info()"
      ],
      "execution_count": 9,
      "outputs": [
        {
          "output_type": "stream",
          "text": [
            "<class 'pandas.core.frame.DataFrame'>\n",
            "RangeIndex: 20800 entries, 0 to 20799\n",
            "Data columns (total 5 columns):\n",
            "id        20800 non-null int64\n",
            "title     20242 non-null object\n",
            "author    18843 non-null object\n",
            "text      20761 non-null object\n",
            "label     20800 non-null int64\n",
            "dtypes: int64(2), object(3)\n",
            "memory usage: 812.6+ KB\n"
          ],
          "name": "stdout"
        }
      ]
    },
    {
      "metadata": {
        "id": "8OnyuW4YlW_m",
        "colab_type": "text"
      },
      "cell_type": "markdown",
      "source": [
        "http://scikit-learn.org/stable/modules/generated/sklearn.feature_extraction.text.TfidfTransformer.html\n",
        "http://scikit-learn.org/stable/modules/generated/sklearn.feature_extraction.text.CountVectorizer.html\n"
      ]
    },
    {
      "metadata": {
        "id": "yqk8Lqg44ZO5",
        "colab_type": "code",
        "colab": {
          "autoexec": {
            "startup": false,
            "wait_interval": 0
          },
          "base_uri": "https://localhost:8080/",
          "height": 37
        },
        "outputId": "fced81a8-c2af-4c78-87a6-b0153dfe2a5f",
        "executionInfo": {
          "status": "ok",
          "timestamp": 1529452250741,
          "user_tz": 180,
          "elapsed": 619,
          "user": {
            "displayName": "Lucas Parreiras",
            "photoUrl": "//lh3.googleusercontent.com/-TXOCYUmGm00/AAAAAAAAAAI/AAAAAAAAG3c/JEpN5dCuDxY/s50-c-k-no/photo.jpg",
            "userId": "114481027314794826154"
          }
        }
      },
      "cell_type": "code",
      "source": [
        "def clean_text(text):\n",
        "    \n",
        "    ## Remove puncuation\n",
        "    text = text.translate(string.punctuation)\n",
        "    \n",
        "    ## Convert words to lower case and split them\n",
        "    text = text.lower().split()\n",
        "    \n",
        "    ## Remove stop words\n",
        "    stops = set(stopwords.words(\"english\"))\n",
        "    text = [w for w in text if not w in stops and len(w) >= 3]\n",
        "    \n",
        "    text = \" \".join(text)\n",
        "    ## Clean the text\n",
        "    text = re.sub(r\"[^A-Za-z0-9^,!.\\/'+-=]\", \" \", text)\n",
        "    text = re.sub(r\"[^a-zA-z\\s]\", \" \", text)\n",
        "    text = re.sub(r\"what's\", \"what is \", text)\n",
        "    text = re.sub(r\"\\'s\", \" \", text)\n",
        "    text = re.sub(r\"\\'ve\", \" have \", text)\n",
        "    text = re.sub(r\"n't\", \" not \", text)\n",
        "    text = re.sub(r\"i'm\", \"i am \", text)\n",
        "    text = re.sub(r\"\\'re\", \" are \", text)\n",
        "    text = re.sub(r\"\\'d\", \" would \", text)\n",
        "    text = re.sub(r\"\\'ll\", \" will \", text)\n",
        "    text = re.sub(r\",\", \" \", text)\n",
        "    text = re.sub(r\"\\.\", \" \", text)\n",
        "    text = re.sub(r\"!\", \" ! \", text)\n",
        "    text = re.sub(r\"\\/\", \" \", text)\n",
        "    text = re.sub(r\"\\^\", \" ^ \", text)\n",
        "    text = re.sub(r\"\\+\", \" + \", text)\n",
        "    text = re.sub(r\"\\-\", \" - \", text)\n",
        "    text = re.sub(r\"\\=\", \" = \", text)\n",
        "    text = re.sub(r\"'\", \" \", text)\n",
        "    text = re.sub(r\"(\\d+)(k)\", r\"\\g<1>000\", text)\n",
        "    text = re.sub(r\":\", \" : \", text)\n",
        "    text = re.sub(r\" e g \", \" eg \", text)\n",
        "    text = re.sub(r\" b g \", \" bg \", text)\n",
        "    text = re.sub(r\" u s \", \" american \", text)\n",
        "    text = re.sub(r\"\\0s\", \"0\", text)\n",
        "    text = re.sub(r\" 9 11 \", \"911\", text)\n",
        "    text = re.sub(r\"e - mail\", \"email\", text)\n",
        "    text = re.sub(r\"j k\", \"jk\", text)\n",
        "    text = re.sub(r\"\\s{2,}\", \" \", text)\n",
        "    ##remove less than 4 letters\n",
        "    text = re.sub(r'\\b\\w{1,3}\\b', '', text)\n",
        "    ## Stemming\n",
        "    text = text.split()\n",
        "    stemmer = SnowballStemmer('english')\n",
        "    stemmed_words = [stemmer.stem(word) for word in text]\n",
        "    text = \" \".join(stemmed_words)\n",
        "    \n",
        "    return text\n"
      ],
      "execution_count": 10,
      "outputs": []
    },
    {
      "metadata": {
        "id": "yrfJ1X5LlW_o",
        "colab_type": "code",
        "colab": {
          "autoexec": {
            "startup": false,
            "wait_interval": 0
          },
          "base_uri": "https://localhost:8080/",
          "height": 37
        },
        "outputId": "55c52c46-ba9b-4b4a-e278-c5a6050edd30",
        "executionInfo": {
          "status": "ok",
          "timestamp": 1529452425767,
          "user_tz": 180,
          "elapsed": 174640,
          "user": {
            "displayName": "Lucas Parreiras",
            "photoUrl": "//lh3.googleusercontent.com/-TXOCYUmGm00/AAAAAAAAAAI/AAAAAAAAG3c/JEpN5dCuDxY/s50-c-k-no/photo.jpg",
            "userId": "114481027314794826154"
          }
        }
      },
      "cell_type": "code",
      "source": [
        "#data prep\n",
        "data=data.fillna(' ')\n",
        "data['all'] = data['title']+' '+ data['author'] +' '+ data['text']\n",
        "\n",
        "## apply the above function to data['all']\n",
        "data['all'] = data['all'].map(lambda x: clean_text(x))"
      ],
      "execution_count": 11,
      "outputs": []
    },
    {
      "metadata": {
        "id": "xLQuQCSi1t7-",
        "colab_type": "code",
        "colab": {
          "autoexec": {
            "startup": false,
            "wait_interval": 0
          },
          "base_uri": "https://localhost:8080/",
          "height": 37
        },
        "outputId": "9627e9c7-1107-49c3-8f45-3baf00320146",
        "executionInfo": {
          "status": "ok",
          "timestamp": 1529452426861,
          "user_tz": 180,
          "elapsed": 733,
          "user": {
            "displayName": "Lucas Parreiras",
            "photoUrl": "//lh3.googleusercontent.com/-TXOCYUmGm00/AAAAAAAAAAI/AAAAAAAAG3c/JEpN5dCuDxY/s50-c-k-no/photo.jpg",
            "userId": "114481027314794826154"
          }
        }
      },
      "cell_type": "code",
      "source": [
        "targets = data['label'].values"
      ],
      "execution_count": 12,
      "outputs": []
    },
    {
      "metadata": {
        "id": "9q0QTAAq3ZZ2",
        "colab_type": "code",
        "colab": {
          "autoexec": {
            "startup": false,
            "wait_interval": 0
          },
          "base_uri": "https://localhost:8080/",
          "height": 37
        },
        "outputId": "6e71d517-a17e-4e74-a40c-2a3501390031",
        "executionInfo": {
          "status": "ok",
          "timestamp": 1529452545788,
          "user_tz": 180,
          "elapsed": 118706,
          "user": {
            "displayName": "Lucas Parreiras",
            "photoUrl": "//lh3.googleusercontent.com/-TXOCYUmGm00/AAAAAAAAAAI/AAAAAAAAG3c/JEpN5dCuDxY/s50-c-k-no/photo.jpg",
            "userId": "114481027314794826154"
          }
        }
      },
      "cell_type": "code",
      "source": [
        "#tfidf\n",
        "\n",
        "transformer = TfidfTransformer(smooth_idf=False)\n",
        "count_vectorizer = CountVectorizer(ngram_range=(1, 3))\n",
        "counts = count_vectorizer.fit_transform(data['all'].values)\n",
        "features = transformer.fit_transform(counts)"
      ],
      "execution_count": 13,
      "outputs": []
    },
    {
      "metadata": {
        "id": "cUouLOnAd7c3",
        "colab_type": "code",
        "colab": {
          "autoexec": {
            "startup": false,
            "wait_interval": 0
          },
          "base_uri": "https://localhost:8080/",
          "height": 34
        },
        "outputId": "d4a8af83-1d1e-4049-dc49-9893755bd592",
        "executionInfo": {
          "status": "ok",
          "timestamp": 1529452582803,
          "user_tz": 180,
          "elapsed": 873,
          "user": {
            "displayName": "Lucas Parreiras",
            "photoUrl": "//lh3.googleusercontent.com/-TXOCYUmGm00/AAAAAAAAAAI/AAAAAAAAG3c/JEpN5dCuDxY/s50-c-k-no/photo.jpg",
            "userId": "114481027314794826154"
          }
        }
      },
      "cell_type": "code",
      "source": [
        "features.shape[1]"
      ],
      "execution_count": 14,
      "outputs": [
        {
          "output_type": "execute_result",
          "data": {
            "text/plain": [
              "10429999"
            ]
          },
          "metadata": {
            "tags": []
          },
          "execution_count": 14
        }
      ]
    },
    {
      "metadata": {
        "id": "XcxpR7F5QeBV",
        "colab_type": "code",
        "colab": {
          "autoexec": {
            "startup": false,
            "wait_interval": 0
          },
          "base_uri": "https://localhost:8080/",
          "height": 37
        },
        "outputId": "f88fc751-4550-4ceb-973a-81a41bc3d735",
        "executionInfo": {
          "status": "ok",
          "timestamp": 1529452586724,
          "user_tz": 180,
          "elapsed": 616,
          "user": {
            "displayName": "Lucas Parreiras",
            "photoUrl": "//lh3.googleusercontent.com/-TXOCYUmGm00/AAAAAAAAAAI/AAAAAAAAG3c/JEpN5dCuDxY/s50-c-k-no/photo.jpg",
            "userId": "114481027314794826154"
          }
        }
      },
      "cell_type": "code",
      "source": [
        "# fix random seed for reproducibility\n",
        "seed = 7\n",
        "np.random.seed(seed)\n",
        "\n",
        "#Cross Validation\n",
        "kfold = StratifiedKFold(n_splits=10, shuffle=True, random_state=seed)"
      ],
      "execution_count": 15,
      "outputs": []
    },
    {
      "metadata": {
        "id": "dRc_lUgplW_w",
        "colab_type": "code",
        "colab": {
          "autoexec": {
            "startup": false,
            "wait_interval": 0
          },
          "base_uri": "https://localhost:8080/",
          "height": 37
        },
        "outputId": "a39c2440-92e8-48ea-b8cb-128b4b6115e9",
        "executionInfo": {
          "status": "ok",
          "timestamp": 1529452589953,
          "user_tz": 180,
          "elapsed": 623,
          "user": {
            "displayName": "Lucas Parreiras",
            "photoUrl": "//lh3.googleusercontent.com/-TXOCYUmGm00/AAAAAAAAAAI/AAAAAAAAG3c/JEpN5dCuDxY/s50-c-k-no/photo.jpg",
            "userId": "114481027314794826154"
          }
        }
      },
      "cell_type": "code",
      "source": [
        "#X and Y\n",
        "\n",
        "X = features\n",
        "Y = targets"
      ],
      "execution_count": 16,
      "outputs": []
    },
    {
      "metadata": {
        "id": "DiJVTrkblXAM",
        "colab_type": "code",
        "colab": {
          "autoexec": {
            "startup": false,
            "wait_interval": 0
          },
          "base_uri": "https://localhost:8080/",
          "height": 34
        },
        "outputId": "7ccbbafa-fa77-4c15-ae17-a27d3490aece",
        "executionInfo": {
          "status": "ok",
          "timestamp": 1529452619557,
          "user_tz": 180,
          "elapsed": 27234,
          "user": {
            "displayName": "Lucas Parreiras",
            "photoUrl": "//lh3.googleusercontent.com/-TXOCYUmGm00/AAAAAAAAAAI/AAAAAAAAG3c/JEpN5dCuDxY/s50-c-k-no/photo.jpg",
            "userId": "114481027314794826154"
          }
        }
      },
      "cell_type": "code",
      "source": [
        "#Naive Bayes\n",
        "\n",
        "NB = MultinomialNB()\n",
        "cvscores = []\n",
        "for train, test in kfold.split(X, Y):\n",
        "  NB.fit(X[train], Y[train])\n",
        "  scores = NB.score(X[test], Y[test])\n",
        "  cvscores.append(scores * 100)\n",
        "\n",
        "print(\"ACC %.2f%% (std +/- %.2f%%)\" % (np.mean(cvscores), np.std(cvscores)))"
      ],
      "execution_count": 17,
      "outputs": [
        {
          "output_type": "stream",
          "text": [
            "ACC 84.92% (std +/- 0.77%)\n"
          ],
          "name": "stdout"
        }
      ]
    },
    {
      "metadata": {
        "id": "r701SdbkhUg5",
        "colab_type": "code",
        "colab": {
          "autoexec": {
            "startup": false,
            "wait_interval": 0
          },
          "base_uri": "https://localhost:8080/",
          "height": 34
        },
        "outputId": "930e5c2c-a222-4dd3-c947-d94302143dd5",
        "executionInfo": {
          "status": "ok",
          "timestamp": 1529461628687,
          "user_tz": 180,
          "elapsed": 8986126,
          "user": {
            "displayName": "Lucas Parreiras",
            "photoUrl": "//lh3.googleusercontent.com/-TXOCYUmGm00/AAAAAAAAAAI/AAAAAAAAG3c/JEpN5dCuDxY/s50-c-k-no/photo.jpg",
            "userId": "114481027314794826154"
          }
        }
      },
      "cell_type": "code",
      "source": [
        "#AdaBoost\n",
        "\n",
        "Adab= AdaBoostClassifier(DecisionTreeClassifier(max_depth=1),n_estimators=5)\n",
        "cvscores = []\n",
        "for train, test in kfold.split(X, Y):\n",
        "  Adab.fit(X[train], Y[train])\n",
        "  scores = NB.score(X[test], Y[test])\n",
        "  cvscores.append(scores * 100)\n",
        "\n",
        "print(\"ACC %.2f%% (std +/- %.2f%%)\" % (np.mean(cvscores), np.std(cvscores)))"
      ],
      "execution_count": 18,
      "outputs": [
        {
          "output_type": "stream",
          "text": [
            "ACC 95.70% (std +/- 4.03%)\n"
          ],
          "name": "stdout"
        }
      ]
    },
    {
      "metadata": {
        "id": "CznNW8S1HRgA",
        "colab_type": "code",
        "colab": {
          "autoexec": {
            "startup": false,
            "wait_interval": 0
          }
        }
      },
      "cell_type": "code",
      "source": [
        "#top 20000 features \n",
        "count_vectorizer = CountVectorizer(ngram_range=(1, 3), max_features=20000)\n",
        "count_vectorizer.fit(data['all'].values)\n",
        "doc_array = count_vectorizer.transform(data['all'].values).toarray()\n",
        "frequency_matrix = pd.DataFrame(doc_array, columns=count_vectorizer.get_feature_names())"
      ],
      "execution_count": 0,
      "outputs": []
    },
    {
      "metadata": {
        "id": "vWR9XGv7HSXR",
        "colab_type": "code",
        "colab": {
          "autoexec": {
            "startup": false,
            "wait_interval": 0
          }
        }
      },
      "cell_type": "code",
      "source": [
        "#X and Y\n",
        "\n",
        "X = frequency_matrix.values\n",
        "Y = targets"
      ],
      "execution_count": 0,
      "outputs": []
    },
    {
      "metadata": {
        "id": "UPXW4oktHTKB",
        "colab_type": "code",
        "colab": {
          "autoexec": {
            "startup": false,
            "wait_interval": 0
          },
          "base_uri": "https://localhost:8080/",
          "height": 34
        },
        "outputId": "18a82dfd-f5c8-453d-98f7-81dcf3399d8c",
        "executionInfo": {
          "status": "ok",
          "timestamp": 1529377876884,
          "user_tz": 180,
          "elapsed": 33395,
          "user": {
            "displayName": "Lucas Parreiras",
            "photoUrl": "//lh3.googleusercontent.com/-TXOCYUmGm00/AAAAAAAAAAI/AAAAAAAAG3c/JEpN5dCuDxY/s50-c-k-no/photo.jpg",
            "userId": "114481027314794826154"
          }
        }
      },
      "cell_type": "code",
      "source": [
        "#Naive Bayes\n",
        "\n",
        "NB = MultinomialNB()\n",
        "cvscores = []\n",
        "for train, test in kfold.split(X, Y):\n",
        "  NB.fit(X[train], Y[train])\n",
        "  scores = NB.score(X[test], Y[test])\n",
        "  cvscores.append(scores * 100)\n",
        "\n",
        "print(\"ACC %.2f%% (std +/- %.2f%%)\" % (np.mean(cvscores), np.std(cvscores)))"
      ],
      "execution_count": 0,
      "outputs": [
        {
          "output_type": "stream",
          "text": [
            "ACC 91.72% (std +/- 0.45%)\n"
          ],
          "name": "stdout"
        }
      ]
    },
    {
      "metadata": {
        "id": "rMKVYSp_HTox",
        "colab_type": "code",
        "colab": {
          "autoexec": {
            "startup": false,
            "wait_interval": 0
          },
          "base_uri": "https://localhost:8080/",
          "height": 34
        },
        "outputId": "461c1450-dad0-4476-b939-3509b802b0c6",
        "executionInfo": {
          "status": "ok",
          "timestamp": 1529378460388,
          "user_tz": 180,
          "elapsed": 576178,
          "user": {
            "displayName": "Lucas Parreiras",
            "photoUrl": "//lh3.googleusercontent.com/-TXOCYUmGm00/AAAAAAAAAAI/AAAAAAAAG3c/JEpN5dCuDxY/s50-c-k-no/photo.jpg",
            "userId": "114481027314794826154"
          }
        }
      },
      "cell_type": "code",
      "source": [
        "#AdaBoost\n",
        "\n",
        "Adab= AdaBoostClassifier(DecisionTreeClassifier(max_depth=1),n_estimators=5)\n",
        "cvscores = []\n",
        "for train, test in kfold.split(X, Y):\n",
        "  Adab.fit(X[train], Y[train])\n",
        "  scores = NB.score(X[test], Y[test])\n",
        "  cvscores.append(scores * 100)\n",
        "\n",
        "print(\"ACC %.2f%% (std +/- %.2f%%)\" % (np.mean(cvscores), np.std(cvscores)))"
      ],
      "execution_count": 0,
      "outputs": [
        {
          "output_type": "stream",
          "text": [
            "ACC 92.72% (std +/- 0.59%)\n"
          ],
          "name": "stdout"
        }
      ]
    },
    {
      "metadata": {
        "id": "Fd1J-yb9ZSeG",
        "colab_type": "code",
        "colab": {
          "autoexec": {
            "startup": false,
            "wait_interval": 0
          }
        }
      },
      "cell_type": "code",
      "source": [
        "#top 18000 features \n",
        "count_vectorizer = CountVectorizer(ngram_range=(1, 3), max_features=18000)\n",
        "count_vectorizer.fit(data['all'].values)\n",
        "doc_array = count_vectorizer.transform(data['all'].values).toarray()\n",
        "frequency_matrix = pd.DataFrame(doc_array, columns=count_vectorizer.get_feature_names())"
      ],
      "execution_count": 0,
      "outputs": []
    },
    {
      "metadata": {
        "id": "z8oqwFU9ZYYm",
        "colab_type": "code",
        "colab": {
          "autoexec": {
            "startup": false,
            "wait_interval": 0
          }
        }
      },
      "cell_type": "code",
      "source": [
        "#X and Y\n",
        "\n",
        "X = frequency_matrix.values\n",
        "Y = targets"
      ],
      "execution_count": 0,
      "outputs": []
    },
    {
      "metadata": {
        "id": "qJi3pWiWaO0J",
        "colab_type": "code",
        "colab": {
          "autoexec": {
            "startup": false,
            "wait_interval": 0
          },
          "base_uri": "https://localhost:8080/",
          "height": 34
        },
        "outputId": "f1a65f5a-12fc-4d08-ca0d-9d1bdccb9614",
        "executionInfo": {
          "status": "ok",
          "timestamp": 1529415608532,
          "user_tz": 180,
          "elapsed": 29145,
          "user": {
            "displayName": "Lucas Parreiras",
            "photoUrl": "//lh3.googleusercontent.com/-TXOCYUmGm00/AAAAAAAAAAI/AAAAAAAAG3c/JEpN5dCuDxY/s50-c-k-no/photo.jpg",
            "userId": "114481027314794826154"
          }
        }
      },
      "cell_type": "code",
      "source": [
        "#Naive Bayes\n",
        "\n",
        "NB = MultinomialNB()\n",
        "cvscores = []\n",
        "for train, test in kfold.split(X, Y):\n",
        "  NB.fit(X[train], Y[train])\n",
        "  scores = NB.score(X[test], Y[test])\n",
        "  cvscores.append(scores * 100)\n",
        "\n",
        "print(\"ACC %.2f%% (std +/- %.2f%%)\" % (np.mean(cvscores), np.std(cvscores)))"
      ],
      "execution_count": 16,
      "outputs": [
        {
          "output_type": "stream",
          "text": [
            "ACC 91.63% (std +/- 0.48%)\n"
          ],
          "name": "stdout"
        }
      ]
    },
    {
      "metadata": {
        "id": "lGEnpZCBaSMK",
        "colab_type": "code",
        "colab": {
          "autoexec": {
            "startup": false,
            "wait_interval": 0
          },
          "base_uri": "https://localhost:8080/",
          "height": 34
        },
        "outputId": "6dc3f218-8f4a-40ae-8364-80b84ba03858",
        "executionInfo": {
          "status": "ok",
          "timestamp": 1529416101090,
          "user_tz": 180,
          "elapsed": 492505,
          "user": {
            "displayName": "Lucas Parreiras",
            "photoUrl": "//lh3.googleusercontent.com/-TXOCYUmGm00/AAAAAAAAAAI/AAAAAAAAG3c/JEpN5dCuDxY/s50-c-k-no/photo.jpg",
            "userId": "114481027314794826154"
          }
        }
      },
      "cell_type": "code",
      "source": [
        "#AdaBoost\n",
        "\n",
        "Adab= AdaBoostClassifier(DecisionTreeClassifier(max_depth=1),n_estimators=5)\n",
        "cvscores = []\n",
        "for train, test in kfold.split(X, Y):\n",
        "  Adab.fit(X[train], Y[train])\n",
        "  scores = NB.score(X[test], Y[test])\n",
        "  cvscores.append(scores * 100)\n",
        "\n",
        "print(\"ACC %.2f%% (std +/- %.2f%%)\" % (np.mean(cvscores), np.std(cvscores)))"
      ],
      "execution_count": 17,
      "outputs": [
        {
          "output_type": "stream",
          "text": [
            "ACC 92.50% (std +/- 0.61%)\n"
          ],
          "name": "stdout"
        }
      ]
    },
    {
      "metadata": {
        "id": "RTIM5Z09FzVR",
        "colab_type": "code",
        "colab": {
          "autoexec": {
            "startup": false,
            "wait_interval": 0
          }
        }
      },
      "cell_type": "code",
      "source": [
        "#top 15000 features \n",
        "count_vectorizer = CountVectorizer(ngram_range=(1, 3), max_features=15000)\n",
        "count_vectorizer.fit(data['all'].values)\n",
        "doc_array = count_vectorizer.transform(data['all'].values).toarray()\n",
        "frequency_matrix = pd.DataFrame(doc_array, columns=count_vectorizer.get_feature_names())"
      ],
      "execution_count": 0,
      "outputs": []
    },
    {
      "metadata": {
        "id": "GciUSpARF86y",
        "colab_type": "code",
        "colab": {
          "autoexec": {
            "startup": false,
            "wait_interval": 0
          }
        }
      },
      "cell_type": "code",
      "source": [
        "#X and Y\n",
        "\n",
        "X = frequency_matrix.values\n",
        "Y = targets"
      ],
      "execution_count": 0,
      "outputs": []
    },
    {
      "metadata": {
        "id": "upABDYEXGCV4",
        "colab_type": "code",
        "colab": {
          "autoexec": {
            "startup": false,
            "wait_interval": 0
          },
          "base_uri": "https://localhost:8080/",
          "height": 34
        },
        "outputId": "3dc287e4-0430-4f0d-fbef-9acd7bcc381a",
        "executionInfo": {
          "status": "ok",
          "timestamp": 1529416581099,
          "user_tz": 180,
          "elapsed": 24989,
          "user": {
            "displayName": "Lucas Parreiras",
            "photoUrl": "//lh3.googleusercontent.com/-TXOCYUmGm00/AAAAAAAAAAI/AAAAAAAAG3c/JEpN5dCuDxY/s50-c-k-no/photo.jpg",
            "userId": "114481027314794826154"
          }
        }
      },
      "cell_type": "code",
      "source": [
        "#Naive Bayes\n",
        "\n",
        "NB = MultinomialNB()\n",
        "cvscores = []\n",
        "for train, test in kfold.split(X, Y):\n",
        "  NB.fit(X[train], Y[train])\n",
        "  scores = NB.score(X[test], Y[test])\n",
        "  cvscores.append(scores * 100)\n",
        "\n",
        "print(\"ACC %.2f%% (std +/- %.2f%%)\" % (np.mean(cvscores), np.std(cvscores)))"
      ],
      "execution_count": 16,
      "outputs": [
        {
          "output_type": "stream",
          "text": [
            "ACC 91.26% (std +/- 0.44%)\n"
          ],
          "name": "stdout"
        }
      ]
    },
    {
      "metadata": {
        "id": "myZaWnRmGGDB",
        "colab_type": "code",
        "colab": {
          "autoexec": {
            "startup": false,
            "wait_interval": 0
          },
          "base_uri": "https://localhost:8080/",
          "height": 34
        },
        "outputId": "999651fb-d327-4e07-e28c-774b00155259",
        "executionInfo": {
          "status": "ok",
          "timestamp": 1529416978514,
          "user_tz": 180,
          "elapsed": 396384,
          "user": {
            "displayName": "Lucas Parreiras",
            "photoUrl": "//lh3.googleusercontent.com/-TXOCYUmGm00/AAAAAAAAAAI/AAAAAAAAG3c/JEpN5dCuDxY/s50-c-k-no/photo.jpg",
            "userId": "114481027314794826154"
          }
        }
      },
      "cell_type": "code",
      "source": [
        "#AdaBoost\n",
        "\n",
        "Adab= AdaBoostClassifier(DecisionTreeClassifier(max_depth=1),n_estimators=5)\n",
        "cvscores = []\n",
        "for train, test in kfold.split(X, Y):\n",
        "  Adab.fit(X[train], Y[train])\n",
        "  scores = NB.score(X[test], Y[test])\n",
        "  cvscores.append(scores * 100)\n",
        "\n",
        "print(\"ACC %.2f%% (std +/- %.2f%%)\" % (np.mean(cvscores), np.std(cvscores)))"
      ],
      "execution_count": 17,
      "outputs": [
        {
          "output_type": "stream",
          "text": [
            "ACC 92.06% (std +/- 0.46%)\n"
          ],
          "name": "stdout"
        }
      ]
    },
    {
      "metadata": {
        "id": "XOyKWq2Zx27j",
        "colab_type": "code",
        "colab": {
          "autoexec": {
            "startup": false,
            "wait_interval": 0
          }
        }
      },
      "cell_type": "code",
      "source": [
        "#top 10000 features \n",
        "count_vectorizer = CountVectorizer(ngram_range=(1, 3), max_features=10000)\n",
        "count_vectorizer.fit(data['all'].values)\n",
        "doc_array = count_vectorizer.transform(data['all'].values).toarray()\n",
        "frequency_matrix = pd.DataFrame(doc_array, columns=count_vectorizer.get_feature_names())"
      ],
      "execution_count": 0,
      "outputs": []
    },
    {
      "metadata": {
        "id": "Mk_JkZEUx8YS",
        "colab_type": "code",
        "colab": {
          "autoexec": {
            "startup": false,
            "wait_interval": 0
          }
        }
      },
      "cell_type": "code",
      "source": [
        "#X and Y\n",
        "\n",
        "X = frequency_matrix.values\n",
        "Y = targets"
      ],
      "execution_count": 0,
      "outputs": []
    },
    {
      "metadata": {
        "id": "LZSBsSlcx95T",
        "colab_type": "code",
        "colab": {
          "autoexec": {
            "startup": false,
            "wait_interval": 0
          },
          "base_uri": "https://localhost:8080/",
          "height": 34
        },
        "outputId": "cedca740-2a6c-4ad5-f78e-6c2c509888a1",
        "executionInfo": {
          "status": "ok",
          "timestamp": 1529417601677,
          "user_tz": 180,
          "elapsed": 17554,
          "user": {
            "displayName": "Lucas Parreiras",
            "photoUrl": "//lh3.googleusercontent.com/-TXOCYUmGm00/AAAAAAAAAAI/AAAAAAAAG3c/JEpN5dCuDxY/s50-c-k-no/photo.jpg",
            "userId": "114481027314794826154"
          }
        }
      },
      "cell_type": "code",
      "source": [
        "#Naive Bayes\n",
        "\n",
        "NB = MultinomialNB()\n",
        "cvscores = []\n",
        "for train, test in kfold.split(X, Y):\n",
        "  NB.fit(X[train], Y[train])\n",
        "  scores = NB.score(X[test], Y[test])\n",
        "  cvscores.append(scores * 100)\n",
        "\n",
        "print(\"ACC %.2f%% (std +/- %.2f%%)\" % (np.mean(cvscores), np.std(cvscores)))"
      ],
      "execution_count": 16,
      "outputs": [
        {
          "output_type": "stream",
          "text": [
            "ACC 90.13% (std +/- 0.65%)\n"
          ],
          "name": "stdout"
        }
      ]
    },
    {
      "metadata": {
        "id": "6cvRJRURyArE",
        "colab_type": "code",
        "colab": {
          "autoexec": {
            "startup": false,
            "wait_interval": 0
          },
          "base_uri": "https://localhost:8080/",
          "height": 34
        },
        "outputId": "27de6ad2-432d-429c-dd5f-11ef0a2782e5",
        "executionInfo": {
          "status": "ok",
          "timestamp": 1529417876824,
          "user_tz": 180,
          "elapsed": 274697,
          "user": {
            "displayName": "Lucas Parreiras",
            "photoUrl": "//lh3.googleusercontent.com/-TXOCYUmGm00/AAAAAAAAAAI/AAAAAAAAG3c/JEpN5dCuDxY/s50-c-k-no/photo.jpg",
            "userId": "114481027314794826154"
          }
        }
      },
      "cell_type": "code",
      "source": [
        "#AdaBoost\n",
        "\n",
        "Adab= AdaBoostClassifier(DecisionTreeClassifier(max_depth=1),n_estimators=5)\n",
        "cvscores = []\n",
        "for train, test in kfold.split(X, Y):\n",
        "  Adab.fit(X[train], Y[train])\n",
        "  scores = NB.score(X[test], Y[test])\n",
        "  cvscores.append(scores * 100)\n",
        "\n",
        "print(\"ACC %.2f%% (std +/- %.2f%%)\" % (np.mean(cvscores), np.std(cvscores)))"
      ],
      "execution_count": 17,
      "outputs": [
        {
          "output_type": "stream",
          "text": [
            "ACC 90.83% (std +/- 0.58%)\n"
          ],
          "name": "stdout"
        }
      ]
    },
    {
      "metadata": {
        "id": "MBeHZRjLyEnr",
        "colab_type": "code",
        "colab": {
          "autoexec": {
            "startup": false,
            "wait_interval": 0
          }
        }
      },
      "cell_type": "code",
      "source": [
        "#top 8000 features \n",
        "count_vectorizer = CountVectorizer(ngram_range=(1, 3), max_features=8000)\n",
        "count_vectorizer.fit(data['all'].values)\n",
        "doc_array = count_vectorizer.transform(data['all'].values).toarray()\n",
        "frequency_matrix = pd.DataFrame(doc_array, columns=count_vectorizer.get_feature_names())"
      ],
      "execution_count": 0,
      "outputs": []
    },
    {
      "metadata": {
        "id": "pSztpsGayI2L",
        "colab_type": "code",
        "colab": {
          "autoexec": {
            "startup": false,
            "wait_interval": 0
          }
        }
      },
      "cell_type": "code",
      "source": [
        "#X and Y\n",
        "\n",
        "X = frequency_matrix.values\n",
        "Y = targets"
      ],
      "execution_count": 0,
      "outputs": []
    },
    {
      "metadata": {
        "id": "-ycRpGtryKJr",
        "colab_type": "code",
        "colab": {
          "autoexec": {
            "startup": false,
            "wait_interval": 0
          },
          "base_uri": "https://localhost:8080/",
          "height": 34
        },
        "outputId": "d848c4e1-c121-4b23-ac6a-656703a3ad19",
        "executionInfo": {
          "status": "ok",
          "timestamp": 1529418000047,
          "user_tz": 180,
          "elapsed": 11961,
          "user": {
            "displayName": "Lucas Parreiras",
            "photoUrl": "//lh3.googleusercontent.com/-TXOCYUmGm00/AAAAAAAAAAI/AAAAAAAAG3c/JEpN5dCuDxY/s50-c-k-no/photo.jpg",
            "userId": "114481027314794826154"
          }
        }
      },
      "cell_type": "code",
      "source": [
        "#Naive Bayes\n",
        "\n",
        "NB = MultinomialNB()\n",
        "cvscores = []\n",
        "for train, test in kfold.split(X, Y):\n",
        "  NB.fit(X[train], Y[train])\n",
        "  scores = NB.score(X[test], Y[test])\n",
        "  cvscores.append(scores * 100)\n",
        "\n",
        "print(\"ACC %.2f%% (std +/- %.2f%%)\" % (np.mean(cvscores), np.std(cvscores)))"
      ],
      "execution_count": 20,
      "outputs": [
        {
          "output_type": "stream",
          "text": [
            "ACC 89.74% (std +/- 0.63%)\n"
          ],
          "name": "stdout"
        }
      ]
    },
    {
      "metadata": {
        "id": "-WEn6cr-zuaj",
        "colab_type": "code",
        "colab": {
          "autoexec": {
            "startup": false,
            "wait_interval": 0
          },
          "base_uri": "https://localhost:8080/",
          "height": 34
        },
        "outputId": "b3807784-9540-4ac0-a750-1c8aa03fcb04",
        "executionInfo": {
          "status": "ok",
          "timestamp": 1529418217335,
          "user_tz": 180,
          "elapsed": 216183,
          "user": {
            "displayName": "Lucas Parreiras",
            "photoUrl": "//lh3.googleusercontent.com/-TXOCYUmGm00/AAAAAAAAAAI/AAAAAAAAG3c/JEpN5dCuDxY/s50-c-k-no/photo.jpg",
            "userId": "114481027314794826154"
          }
        }
      },
      "cell_type": "code",
      "source": [
        "#AdaBoost\n",
        "\n",
        "Adab= AdaBoostClassifier(DecisionTreeClassifier(max_depth=1),n_estimators=5)\n",
        "cvscores = []\n",
        "for train, test in kfold.split(X, Y):\n",
        "  Adab.fit(X[train], Y[train])\n",
        "  scores = NB.score(X[test], Y[test])\n",
        "  cvscores.append(scores * 100)\n",
        "\n",
        "print(\"ACC %.2f%% (std +/- %.2f%%)\" % (np.mean(cvscores), np.std(cvscores)))"
      ],
      "execution_count": 21,
      "outputs": [
        {
          "output_type": "stream",
          "text": [
            "ACC 90.31% (std +/- 0.59%)\n"
          ],
          "name": "stdout"
        }
      ]
    }
  ]
}